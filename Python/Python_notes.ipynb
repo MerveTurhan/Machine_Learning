{
 "cells": [
  {
   "cell_type": "markdown",
   "metadata": {},
   "source": [
    "# Python Important Notes"
   ]
  },
  {
   "cell_type": "markdown",
   "metadata": {},
   "source": [
    "***PEP*** stands for Python Enhancement Proposal. PEP 8 is a coding convention, a set of recommendation, about how to write your Python code more readable. "
   ]
  },
  {
   "cell_type": "markdown",
   "metadata": {},
   "source": [
    "Do not use the characters 'l' (lowercase letter el), 'O' (uppercase letter oh), or 'I' (uppercase letter eye) as single-character variable names."
   ]
  },
  {
   "cell_type": "markdown",
   "metadata": {},
   "source": [
    "#Logical Operator order of their priorities:\n",
    "not\n",
    "and\n",
    "or"
   ]
  },
  {
   "cell_type": "code",
   "execution_count": null,
   "metadata": {},
   "outputs": [],
   "source": [
    "# There is a list of priorities for all considered operations: it is worth keeping this priority in your mind.\n",
    "\n",
    "parentheses : ()\n",
    "power : **\n",
    "unary minus : -3\n",
    "multiplication and division : *, /\n",
    "addition and subtraction : +, -"
   ]
  },
  {
   "cell_type": "markdown",
   "metadata": {},
   "source": [
    "1) What is the difference between tuple and list?  \n",
    "When created one tuple variable, it can't be edited. But list can be changable everytime. Using tuple is more faster using list. How you should use tuple and list? "
   ]
  },
  {
   "cell_type": "code",
   "execution_count": 1,
   "metadata": {},
   "outputs": [],
   "source": [
    "list = [33, 'Turkey', 19]\n",
    "tuple = (33, 'Turkey' , 19)"
   ]
  },
  {
   "cell_type": "markdown",
   "metadata": {},
   "source": [
    "2) List and Array and Dictionary\n",
    "The list is the core of python variable, but array is numpy framework variable. They are used to store variable. Array has a constant size. "
   ]
  },
  {
   "cell_type": "code",
   "execution_count": 76,
   "metadata": {},
   "outputs": [
    {
     "name": "stdout",
     "output_type": "stream",
     "text": [
      "[0, 1, 2, 3, 4]\n",
      "[0 1 2 3 4]\n",
      "{'merve': 26}\n"
     ]
    }
   ],
   "source": [
    "#Define Variable \n",
    "import random \n",
    "import numpy as np \n",
    "list_ex = [0, 1, 2, 3, 4]        #define list\n",
    "array_ex = np.array([0,1,2,3,4]) #define array\n",
    "dictionary_ex = {\"merve\":26}     #define dictionary\n",
    "\n",
    "print(list_ex)\n",
    "print(array_ex)\n",
    "print(dictionary_ex)"
   ]
  },
  {
   "cell_type": "code",
   "execution_count": 87,
   "metadata": {},
   "outputs": [
    {
     "name": "stdout",
     "output_type": "stream",
     "text": [
      "[0, 1, 2, 3, 4, 5]\n",
      "[0 1 2 3 4 5]\n",
      "{'merve': 26, 'turhan': 27}\n"
     ]
    }
   ],
   "source": [
    "#Adding Value\n",
    "list_ex.append(5)               #added data for list\n",
    "array_ex = np.append(c,5)        #added data for numpy array\n",
    "dictionary_ex.update({'turhan': 27}) #added data for dictionary\n",
    "print(list_ex)\n",
    "print(array_ex)\n",
    "print(dictionary_ex)"
   ]
  },
  {
   "cell_type": "code",
   "execution_count": 88,
   "metadata": {},
   "outputs": [
    {
     "name": "stdout",
     "output_type": "stream",
     "text": [
      "[0, 1, 2, 3, 4]\n",
      "[0 2 3 4]\n",
      "{'merve': 26}\n"
     ]
    }
   ],
   "source": [
    "#Deleting Value\n",
    "list_ex.remove(5)            #variable delete\n",
    "array_ex = np.delete(c,1)    #delete with spesific index \n",
    "dictionary_ex.pop('turhan')  #key value delete\n",
    "print(list_ex)\n",
    "print(array_ex)\n",
    "print(dictionary_ex)"
   ]
  },
  {
   "cell_type": "markdown",
   "metadata": {},
   "source": [
    "3) Miracle Print Command and Important notes"
   ]
  },
  {
   "cell_type": "code",
   "execution_count": 12,
   "metadata": {},
   "outputs": [
    {
     "name": "stdout",
     "output_type": "stream",
     "text": [
      "MerveHuseyin\n"
     ]
    }
   ],
   "source": [
    "#Don't skip the other row \n",
    "print(\"Merve\",end = '')\n",
    "print(\"Huseyin\")"
   ]
  },
  {
   "cell_type": "code",
   "execution_count": 46,
   "metadata": {},
   "outputs": [
    {
     "name": "stdout",
     "output_type": "stream",
     "text": [
      "First number 3 and second number is 4\n"
     ]
    }
   ],
   "source": [
    "#integer variable print\n",
    "i = 3\n",
    "k = 4.0\n",
    "#print integer \n",
    "print (\"First number %d and second number is %d\" %(i, k))"
   ]
  },
  {
   "cell_type": "code",
   "execution_count": 2,
   "metadata": {},
   "outputs": [
    {
     "name": "stdout",
     "output_type": "stream",
     "text": [
      "It's my pleasure\n",
      "Merve\n",
      "Merve\n"
     ]
    }
   ],
   "source": [
    "#matter of quotes\n",
    "print(\"It's my pleasure\")  #double quotes \n",
    "print('Merve')\n",
    "print(\"Merve\")"
   ]
  },
  {
   "cell_type": "code",
   "execution_count": 4,
   "metadata": {},
   "outputs": [
    {
     "name": "stdout",
     "output_type": "stream",
     "text": [
      "How many empty line\n",
      "\n",
      "\n",
      "Xd\n"
     ]
    }
   ],
   "source": [
    "print(\"How many empty line\")\n",
    "print(\"\")\n",
    "print()\n",
    "print(\"Xd\")\n"
   ]
  },
  {
   "cell_type": "markdown",
   "metadata": {},
   "source": [
    "3) Math operation\n",
    "    * \"and\" ve \"or\" matematical operation\n",
    "    "
   ]
  },
  {
   "cell_type": "code",
   "execution_count": 90,
   "metadata": {},
   "outputs": [
    {
     "name": "stdout",
     "output_type": "stream",
     "text": [
      "1.2\n",
      "1\n"
     ]
    }
   ],
   "source": [
    "# Divide\n",
    "print(6/5) # \"/\" give us double variable\n",
    "print(6//5) # \"// \" give us integer variable"
   ]
  },
  {
   "cell_type": "code",
   "execution_count": 16,
   "metadata": {},
   "outputs": [
    {
     "name": "stdout",
     "output_type": "stream",
     "text": [
      "2\n"
     ]
    }
   ],
   "source": [
    "# Mod \n",
    "print(5%3)"
   ]
  },
  {
   "cell_type": "code",
   "execution_count": 92,
   "metadata": {},
   "outputs": [
    {
     "name": "stdout",
     "output_type": "stream",
     "text": [
      "3\n",
      "4\n",
      "5\n",
      "3 <class 'int'>\n",
      "4.0 <class 'float'>\n",
      "5 <class 'str'>\n"
     ]
    }
   ],
   "source": [
    "#input prompt\n",
    "k = int(input())   #integer input \n",
    "m = float(input()) #float input\n",
    "j = input()        #string input \n",
    "print(k,type(k))\n",
    "print(m,type(m))\n",
    "print(j,type(j))"
   ]
  },
  {
   "cell_type": "code",
   "execution_count": 55,
   "metadata": {},
   "outputs": [
    {
     "name": "stdout",
     "output_type": "stream",
     "text": [
      "mre\n",
      "ev\n"
     ]
    }
   ],
   "source": [
    "s = \"merve\"  #define string \n",
    "print(s[::2]) #print with two skip variable\n",
    "print(s[1::2])#print start index = 1 with two skip variable"
   ]
  },
  {
   "cell_type": "code",
   "execution_count": 111,
   "metadata": {},
   "outputs": [
    {
     "name": "stdout",
     "output_type": "stream",
     "text": [
      "[0, 1]\n"
     ]
    }
   ],
   "source": [
    "listA = [0]\n",
    "listB = listA\n",
    "listB.append(1)\n",
    "print(listA)"
   ]
  }
 ],
 "metadata": {
  "kernelspec": {
   "display_name": "Python 3",
   "language": "python",
   "name": "python3"
  },
  "language_info": {
   "codemirror_mode": {
    "name": "ipython",
    "version": 3
   },
   "file_extension": ".py",
   "mimetype": "text/x-python",
   "name": "python",
   "nbconvert_exporter": "python",
   "pygments_lexer": "ipython3",
   "version": "3.7.7"
  }
 },
 "nbformat": 4,
 "nbformat_minor": 4
}
